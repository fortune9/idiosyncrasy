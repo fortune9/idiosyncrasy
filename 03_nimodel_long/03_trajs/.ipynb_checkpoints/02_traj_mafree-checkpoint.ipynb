{
 "cells": [
  {
   "cell_type": "code",
   "execution_count": null,
   "metadata": {},
   "outputs": [],
   "source": [
    "#!/usr/bin/env python\n",
    "\n",
    "import numpy\n",
    "import pandas\n",
    "import pickle\n",
    "import random\n",
    "import scipy.stats\n",
    "\n",
    "from matplotlib import pyplot, cm\n",
    "\n",
    "%matplotlib inline"
   ]
  },
  {
   "cell_type": "code",
   "execution_count": null,
   "metadata": {},
   "outputs": [],
   "source": [
    "traj_dir = 'trajs/'\n",
    "out_dir = 'stats/'\n",
    "in_dir_all = '../01_fitness/'\n",
    "N_list = (16, 32, 64, 128, 256, 512, 1024)"
   ]
  },
  {
   "cell_type": "code",
   "execution_count": null,
   "metadata": {},
   "outputs": [],
   "source": [
    "fs0, fs1, alpha = 16, 14, 0.7\n",
    "fig, ax = pyplot.subplots(1, 1, figsize=(6.5, 6))\n",
    "maxx = 20\n",
    "cmap = cm.get_cmap('jet')\n",
    "mean_logfit_list = []\n",
    "for k, N in enumerate(N_list):\n",
    "    traj_list = pickle.load(open(f'{traj_dir}02_traj_mafree_{N:04d}.pkl', 'rb'))\n",
    "    trajfit_list = pickle.load(open(f'{traj_dir}02_trajfit_mafree_{N:04d}.pkl', 'rb'))\n",
    "    nsample = len(traj_list)\n",
    "    lenx = max([len(x) for x in traj_list])\n",
    "    trajfit_arr = numpy.array(trajfit_list)[:, :maxx]\n",
    "    trajfit_mean_arr = numpy.nanmean(trajfit_arr, axis=0)\n",
    "    trajfit_mean_arr = (trajfit_mean_arr - trajfit_mean_arr.min()) / (trajfit_mean_arr.max() - trajfit_mean_arr.min())\n",
    "    ax.plot(numpy.arange(maxx), trajfit_mean_arr[:maxx], '-', linewidth=2, color=cmap(k/len(N_list)), alpha=alpha)\n",
    "ax.set_xticks(numpy.arange(maxx));\n",
    "ax.legend(labels=[str(x) for x in N_list], loc=1, \n",
    "          ncol=2, title=r'# sites', fontsize=fs1,\n",
    "          title_fontsize=fs0, frameon=False, columnspacing=0.5)\n",
    "ax.set_xlabel('Mutation step', fontsize=fs0);\n",
    "ax.set_ylabel('Fitness', fontsize=fs0);\n",
    "[x.set_fontsize(fs1) for x in ax.xaxis.get_ticklabels() + ax.yaxis.get_ticklabels()]\n",
    "pyplot.tight_layout()\n",
    "pyplot.savefig(f'{out_dir}trend_mafreetraj_all.pdf', dpi=300);"
   ]
  }
 ],
 "metadata": {
  "kernelspec": {
   "display_name": "Python 3",
   "language": "python",
   "name": "python3"
  },
  "language_info": {
   "codemirror_mode": {
    "name": "ipython",
    "version": 3
   },
   "file_extension": ".py",
   "mimetype": "text/x-python",
   "name": "python",
   "nbconvert_exporter": "python",
   "pygments_lexer": "ipython3",
   "version": "3.6.9"
  }
 },
 "nbformat": 4,
 "nbformat_minor": 2
}
