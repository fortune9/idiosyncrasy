{
 "cells": [
  {
   "cell_type": "code",
   "execution_count": null,
   "metadata": {},
   "outputs": [],
   "source": [
    "#!/usr/bin/env python\n",
    "\n",
    "import itertools\n",
    "\n",
    "import numpy\n",
    "import pandas\n",
    "import pickle\n",
    "import random\n",
    "import scipy.stats\n",
    "\n",
    "from matplotlib import pyplot\n",
    "\n",
    "%matplotlib inline"
   ]
  },
  {
   "cell_type": "code",
   "execution_count": null,
   "metadata": {},
   "outputs": [],
   "source": [
    "def get_ratios(mut_effect_dict, gt_fit_pool):\n",
    "    ns = []\n",
    "    ranges = []\n",
    "    stddevs = []\n",
    "    effects_list = []\n",
    "    mutations = []\n",
    "    all_effects_list = []\n",
    "    for pos in range(N):\n",
    "        for nt1, nt2 in itertools.permutations('AT', 2):\n",
    "            mut = (pos, nt1, nt2)\n",
    "            mut_effects = []\n",
    "            for x in mut_effect_dict[mut]:\n",
    "                mut_effects.append(x[3] - x[2])\n",
    "            all_effects_list.extend(mut_effects)\n",
    "            mut_effects = numpy.array(mut_effects)\n",
    "            ns.append(mut_effects.shape[0])\n",
    "            mutations.append(mut)\n",
    "            ranges.append(mut_effects.max() - mut_effects.min())\n",
    "            stddevs.append(numpy.std(mut_effects))\n",
    "            effects_list.append(mut_effects)\n",
    "    all_effects_arr = numpy.array(all_effects_list)\n",
    "    null_ranges = []\n",
    "    null_stddevs = []\n",
    "    null_effects_list = []\n",
    "    for n in ns:\n",
    "        null_effects = numpy.array([\n",
    "            x[1] - x[0] for x in\n",
    "            numpy.random.choice(gt_fit_pool, size=(n, 2), replace=True)\n",
    "        ])\n",
    "        null_ranges.append(null_effects.max() - null_effects.min())\n",
    "        null_stddevs.append(numpy.std(null_effects))\n",
    "        null_effects_list.append(null_effects)\n",
    "    ranges = numpy.array(ranges)\n",
    "    null_ranges = numpy.array(null_ranges)\n",
    "    stddevs = numpy.array(stddevs)\n",
    "    null_stddevs = numpy.array(null_stddevs)\n",
    "    return ranges, null_ranges, stddevs, null_stddevs"
   ]
  },
  {
   "cell_type": "code",
   "execution_count": null,
   "metadata": {},
   "outputs": [],
   "source": [
    "in_dir_all = '../01_fitness/'\n",
    "out_dir = './plots/'\n",
    "N = 16"
   ]
  },
  {
   "cell_type": "code",
   "execution_count": null,
   "metadata": {},
   "outputs": [],
   "source": [
    "level_list, ii_range_list, ii_stddev_list = [], [], []\n",
    "bin_len = (0.05, 0.002)\n",
    "def get_bins(arr, bin_len):\n",
    "    return numpy.arange(arr.min(), arr.max()+bin_len, bin_len)\n",
    "iid_f = open('sigma_iid.list', 'w')\n",
    "for level in numpy.arange(16):\n",
    "    dirx = f'nlevel_{level:02d}'\n",
    "    mut_effect_dict = pickle.load(open(f'{in_dir_all}{dirx}/mut_effect_dict.pkl', 'rb'))\n",
    "    gt_fit_list = pickle.load(open(f'{in_dir_all}{dirx}/gt_logfit_list.pkl', 'rb'))\n",
    "    gt_fit_pool = numpy.array(gt_fit_list)\n",
    "    numpy.random.seed(4032)\n",
    "    ranges, null_ranges, stddevs, null_stddevs = get_ratios(mut_effect_dict, gt_fit_pool)\n",
    "    mean_range = numpy.mean(ranges)\n",
    "    mean_null_range = numpy.mean(null_ranges)\n",
    "    mean_ii_range = numpy.mean(ranges / null_ranges)\n",
    "    mean_stddev = numpy.mean(stddevs)\n",
    "    mean_null_stddev = numpy.mean(null_stddevs)\n",
    "    mean_ii_stddev = numpy.mean(stddevs / null_stddevs)\n",
    "    level_list.append(level)\n",
    "    ii_range_list.append(ranges / null_ranges)\n",
    "    ii_stddev_list.append(stddevs / null_stddevs)\n",
    "    print(f'level: {level:d}\\trange: {mean_range:.2f}\\tnull_range: {mean_null_range:.2f}\\tii(range): {mean_ii_range:.2f}'\n",
    "          f'\\tstddev: {mean_stddev:.2f}\\tnull_stddev: {mean_null_stddev:.2f}\\tii(stddev): {mean_ii_stddev:.2f}');\n",
    "    print(f'{level:d}\\t{mean_ii_stddev:.2f}', file=iid_f);"
   ]
  }
 ],
 "metadata": {
  "kernelspec": {
   "display_name": "Python 3",
   "language": "python",
   "name": "python3"
  },
  "language_info": {
   "codemirror_mode": {
    "name": "ipython",
    "version": 3
   },
   "file_extension": ".py",
   "mimetype": "text/x-python",
   "name": "python",
   "nbconvert_exporter": "python",
   "pygments_lexer": "ipython3",
   "version": "3.6.9"
  }
 },
 "nbformat": 4,
 "nbformat_minor": 2
}
