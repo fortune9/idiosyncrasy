{
 "cells": [
  {
   "cell_type": "code",
   "execution_count": null,
   "metadata": {},
   "outputs": [],
   "source": [
    "#!/usr/bin/env python\n",
    "\n",
    "import numpy\n",
    "import pandas\n",
    "import pickle\n",
    "import random\n",
    "import scipy.stats\n",
    "\n",
    "from matplotlib import pyplot, cm\n",
    "\n",
    "%matplotlib inline"
   ]
  },
  {
   "cell_type": "code",
   "execution_count": null,
   "metadata": {},
   "outputs": [],
   "source": [
    "traj_dir = 'trajs/'\n",
    "out_dir = 'stats/'\n",
    "in_dir_all = '../01_fitness/'\n",
    "tmp = open('../02_idiosyncracy/sigma_iid.list').read().split()\n",
    "iid_dict = dict(zip(tmp[::2], tmp[1::2]))"
   ]
  },
  {
   "cell_type": "code",
   "execution_count": null,
   "metadata": {},
   "outputs": [],
   "source": [
    "fs0, fs1, alpha = 16, 14, 0.7\n",
    "fig, ax = pyplot.subplots(1, 1, figsize=(7, 6.5))\n",
    "maxx = 11\n",
    "cmap = cm.get_cmap('jet')\n",
    "mean_logfit_list = []\n",
    "for k, level in enumerate(numpy.arange(16)):\n",
    "    in_dir = f'{in_dir_all}nlevel_{level:02d}/'\n",
    "    traj_list = pickle.load(open(f'{traj_dir}02_traj_mafree_{level:02d}.pkl', 'rb'))\n",
    "    gt_logfit_list = pickle.load(open(f'{in_dir}gt_logfit_list.pkl', 'rb'))\n",
    "    nsample = len(traj_list)\n",
    "    lenx = max([len(x) for x in traj_list])\n",
    "    logfit_list_pool = numpy.zeros((nsample, lenx)) * numpy.nan\n",
    "    for i in range(nsample):\n",
    "        logfit_list = [gt_logfit_list[x] for x in traj_list[i]]\n",
    "        logfit_list_pool[i, :len(logfit_list)] = logfit_list\n",
    "    logfit_mean_pool = numpy.mean(logfit_list_pool, axis=0)\n",
    "    mean_logfit_list.append(numpy.mean(gt_logfit_list))\n",
    "    ax.plot(numpy.arange(maxx), logfit_mean_pool[:maxx], '-', linewidth=2, color=cmap(k/15), alpha=alpha)\n",
    "ax.set_xticks(numpy.arange(maxx));\n",
    "ax.legend(labels=[f'{x+1:d} (' + iid_dict[f'{x:d}'] + ')' for x in numpy.arange(16)], loc=1, \n",
    "          ncol=2, title=r'Highest order of interaction ($I_{id}$)', fontsize=fs1-1,\n",
    "          title_fontsize=fs1, frameon=False, columnspacing=0.5)\n",
    "for k, sigma in enumerate(numpy.arange(0, 0.51, 0.05)):\n",
    "    ax.plot((0, 10), (mean_logfit_list[k], mean_logfit_list[k]), ':', linewidth=2, color=cmap(k/11), alpha=alpha)\n",
    "ax.set_xlim(-0.4, 11)\n",
    "ax.set_ylim(0.45, 0.95)\n",
    "ax.set_xlabel('Mutation step', fontsize=fs0);\n",
    "ax.set_ylabel('Fitness', fontsize=fs0);\n",
    "[x.set_fontsize(fs1) for x in ax.xaxis.get_ticklabels() + ax.yaxis.get_ticklabels()]\n",
    "pyplot.tight_layout()\n",
    "pyplot.savefig(f'{out_dir}trend_mafreetraj_all.pdf', dpi=300);"
   ]
  }
 ],
 "metadata": {
  "kernelspec": {
   "display_name": "Python 3",
   "language": "python",
   "name": "python3"
  },
  "language_info": {
   "codemirror_mode": {
    "name": "ipython",
    "version": 3
   },
   "file_extension": ".py",
   "mimetype": "text/x-python",
   "name": "python",
   "nbconvert_exporter": "python",
   "pygments_lexer": "ipython3",
   "version": "3.6.9"
  }
 },
 "nbformat": 4,
 "nbformat_minor": 2
}
