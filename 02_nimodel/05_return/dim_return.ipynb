{
 "cells": [
  {
   "cell_type": "code",
   "execution_count": null,
   "metadata": {},
   "outputs": [],
   "source": [
    "#!/usr/bin/env python\n",
    "\n",
    "import itertools\n",
    "\n",
    "import numpy\n",
    "import pandas\n",
    "import pickle\n",
    "import random\n",
    "import scipy.stats\n",
    "\n",
    "from matplotlib import pyplot\n",
    "\n",
    "%matplotlib inline\n",
    "\n",
    "fs1 = 16\n",
    "fs2 = 14\n",
    "out_dir = 'plots/'"
   ]
  },
  {
   "cell_type": "code",
   "execution_count": null,
   "metadata": {},
   "outputs": [],
   "source": [
    "in_dir_all = '../01_fitness/'\n",
    "mutpr_list, mutsr_list, allpr_list, allsr_list = [], [], [], []\n",
    "for level in numpy.arange(16):\n",
    "    in_dir = f'{in_dir_all}nlevel_{level:02d}/'\n",
    "    mut_effect_dict = pickle.load(open(f'{in_dir}mut_effect_dict.pkl', 'rb'))\n",
    "    mut_all_list = list(mut_effect_dict.keys())\n",
    "    gt_mut_list = pickle.load(open(f'{in_dir}gt_mut_list.pkl', 'rb'))\n",
    "    gt_logfit_list = pickle.load(open(f'{in_dir}gt_logfit_list.pkl', 'rb'))\n",
    "    pr_addlist, sr_addlist = [], []\n",
    "    backgrounds_all, add_effects_all = [], []\n",
    "    mut_unidirection = set([])\n",
    "    random.seed(1075)\n",
    "    random.shuffle(mut_all_list)\n",
    "    for mut in mut_all_list:\n",
    "        mut_effect_list = mut_effect_dict[mut]\n",
    "        backgrounds = [x[2] for x in mut_effect_list]\n",
    "        add_effects = [x[3] - x[2] for x in mut_effect_list] \n",
    "        pr_addlist.append(scipy.stats.pearsonr(backgrounds, add_effects)[0])\n",
    "        sr_addlist.append(scipy.stats.spearmanr(backgrounds, add_effects)[0])\n",
    "        if not (mut[0], mut[2], mut[1]) in mut_unidirection:\n",
    "            backgrounds_all.extend(backgrounds)\n",
    "            add_effects_all.extend(add_effects)\n",
    "            mut_unidirection.add(mut)\n",
    "    mutpr_list.append(numpy.array(pr_addlist))\n",
    "    mutsr_list.append(numpy.array(sr_addlist))\n",
    "    \n",
    "    backgrounds = numpy.array(backgrounds_all)\n",
    "    mul_effects = numpy.array(add_effects_all)\n",
    "    xs = numpy.arange(len(backgrounds), dtype='int')\n",
    "    pr = scipy.stats.pearsonr(backgrounds[xs], mul_effects[xs])\n",
    "    sr = scipy.stats.spearmanr(backgrounds[xs], mul_effects[xs])\n",
    "    allpr_list.append(pr)\n",
    "    allsr_list.append(sr)\n",
    "    print(level)"
   ]
  },
  {
   "cell_type": "code",
   "execution_count": null,
   "metadata": {},
   "outputs": [],
   "source": [
    "level_list = numpy.arange(16)\n",
    "tmp = open('../02_idiosyncracy/sigma_iid.list').read().split()\n",
    "iid_dict = dict(zip(tmp[::2], tmp[1::2]))\n",
    "fig, ax = pyplot.subplots(1, 1, figsize=(10, 5))\n",
    "props = {'color':(0,0,0,0.7), 'linewidth':1.5}\n",
    "flierprops = {'markeredgecolor':'dimgrey', 'marker':'.', 'markerfacecolor':'dimgrey'}\n",
    "ax.boxplot(mutpr_list, showfliers=True, medianprops=props, boxprops=props, \n",
    "           capprops=props, whiskerprops=props, flierprops=flierprops);\n",
    "ax.plot(numpy.arange(level_list.shape[0])+1, [x[0] for x in allpr_list],\n",
    "        'D', markerfacecolor=(0,0,0,0), markeredgecolor='forestgreen', markeredgewidth=2)\n",
    "# ax.set_xticklabels([f'{x+1:d}\\n' + iid_dict[f'{x:d}'] + ''  for x in level_list], horizontalalignment='center')\n",
    "ax.set_xlabel(r'Highest order of interaction in $n$-order landscapes', fontsize=fs1)\n",
    "ax.set_ylabel(f\"Pearson's $r$ between mutational effect\\nand background fitness\", fontsize=fs1)\n",
    "[x.set_fontsize(fs2) for x in ax.xaxis.get_ticklabels()]\n",
    "[x.set_fontsize(fs2) for x in ax.yaxis.get_ticklabels()]\n",
    "ax.tick_params(axis='x', rotation=0);\n",
    "axt = ax.twinx()\n",
    "axt.plot(numpy.arange(level_list.shape[0])+1, [float(iid_dict[f'{x:d}']) for x in level_list],\n",
    "        'o', markerfacecolor=(0,0,0,0), markeredgecolor='orangered', markeredgewidth=2)\n",
    "axt.set_ylim(-0.05, 1.02)\n",
    "[x.set_fontsize(fs2) for x in axt.yaxis.get_ticklabels()]\n",
    "[x.set_color('orangered') for x in axt.yaxis.get_ticklabels()]\n",
    "axt.set_ylabel(r'$I_{id}$', fontsize=fs1, rotation=0, labelpad=15, color='orangered')\n",
    "fig.tight_layout()\n",
    "fig.savefig(f'{out_dir}boxplot_pcorr_muts.pdf', dpi=300);"
   ]
  }
 ],
 "metadata": {
  "kernelspec": {
   "display_name": "Python 3",
   "language": "python",
   "name": "python3"
  },
  "language_info": {
   "codemirror_mode": {
    "name": "ipython",
    "version": 3
   },
   "file_extension": ".py",
   "mimetype": "text/x-python",
   "name": "python",
   "nbconvert_exporter": "python",
   "pygments_lexer": "ipython3",
   "version": "3.6.9"
  }
 },
 "nbformat": 4,
 "nbformat_minor": 2
}
