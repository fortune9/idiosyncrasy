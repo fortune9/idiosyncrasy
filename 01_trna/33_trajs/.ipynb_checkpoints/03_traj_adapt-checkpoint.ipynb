{
 "cells": [
  {
   "cell_type": "code",
   "execution_count": null,
   "metadata": {},
   "outputs": [],
   "source": [
    "#!/usr/bin/env python\n",
    "\n",
    "import numpy\n",
    "import pandas\n",
    "import pickle\n",
    "import random\n",
    "import scipy.stats\n",
    "\n",
    "from matplotlib import pyplot\n",
    "\n",
    "%matplotlib inline"
   ]
  },
  {
   "cell_type": "code",
   "execution_count": null,
   "metadata": {},
   "outputs": [],
   "source": [
    "traj_dir = 'trajs/'\n",
    "out_dir = 'stats/'\n",
    "in_dir = '../31_fitness/'\n",
    "traj_list = pickle.load(open(f'{traj_dir}03_traj_adapt.pkl', 'rb'))\n",
    "gt_mut_list = pickle.load(open(f'{in_dir}gt_mut_list.pkl', 'rb'))\n",
    "gt_fit_list = pickle.load(open(f'{in_dir}gt_fit_list.pkl', 'rb'))\n",
    "gt_dict = pickle.load(open(f'{in_dir}gt_dict.pkl', 'rb'))"
   ]
  },
  {
   "cell_type": "code",
   "execution_count": null,
   "metadata": {},
   "outputs": [],
   "source": [
    "nsample = len(traj_list)\n",
    "lenx = max([len(x) for x in traj_list])\n",
    "print('longest trajectory:', lenx)\n",
    "logfit_list_pool = numpy.zeros((nsample, lenx)) * numpy.nan\n",
    "for i in range(nsample):\n",
    "    fit_list = [gt_fit_list[x] for x in traj_list[i]]\n",
    "    logfit_list = [numpy.log(x) for x in fit_list]\n",
    "    logfit_list_pool[i, :len(logfit_list)] = logfit_list\n",
    "    if i % 1000 == 0:\n",
    "        print(i, end=' ')\n",
    "logfit_mean_pool = numpy.nanmean(logfit_list_pool, axis=0)"
   ]
  },
  {
   "cell_type": "code",
   "execution_count": null,
   "metadata": {},
   "outputs": [],
   "source": [
    "fs0, fs1, alpha = 16, 14, 0.5\n",
    "fig, ax = pyplot.subplots(1, 1, figsize=(6, 6))\n",
    "for i in range(logfit_list_pool.shape[0]):\n",
    "    ax.plot(numpy.arange(logfit_list_pool.shape[1]), logfit_list_pool[i, :], '-', linewidth=0.5, alpha=alpha)\n",
    "idx = numpy.isfinite(logfit_list_pool).sum(axis=0) >= 10\n",
    "ax.plot(numpy.arange(logfit_list_pool.shape[1])[idx], logfit_mean_pool[idx], '-', linewidth=3, color='black')\n",
    "ax.set_xticks(numpy.arange(logfit_list_pool.shape[1]));\n",
    "ax.set_xlabel('Mutation step', fontsize=fs0);\n",
    "ax.set_ylabel('Fitness', fontsize=fs0);\n",
    "print(f'{nsample} trajectories, {nlconvex_pool} convex, {nlconcave_pool} concave')\n",
    "[x.set_fontsize(fs1) for x in ax.xaxis.get_ticklabels() + ax.yaxis.get_ticklabels()]\n",
    "pyplot.tight_layout()\n",
    "pyplot.savefig(f'{out_dir}trend_fittrajall_adapt.pdf', dpi=300);\n",
    "pyplot.savefig(f'{out_dir}trend_fittrajall_adapt.jpg', dpi=600);"
   ]
  }
 ],
 "metadata": {
  "kernelspec": {
   "display_name": "Python 3",
   "language": "python",
   "name": "python3"
  },
  "language_info": {
   "codemirror_mode": {
    "name": "ipython",
    "version": 3
   },
   "file_extension": ".py",
   "mimetype": "text/x-python",
   "name": "python",
   "nbconvert_exporter": "python",
   "pygments_lexer": "ipython3",
   "version": "3.6.9"
  }
 },
 "nbformat": 4,
 "nbformat_minor": 2
}
