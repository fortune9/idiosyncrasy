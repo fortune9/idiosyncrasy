{
 "cells": [
  {
   "cell_type": "code",
   "execution_count": null,
   "metadata": {},
   "outputs": [],
   "source": [
    "#!/usr/bin/env python\n",
    "\n",
    "import itertools\n",
    "import random\n",
    "\n",
    "import numpy\n",
    "import pandas\n",
    "import pickle\n",
    "import random\n",
    "import scipy.stats\n",
    "\n",
    "from matplotlib import pyplot\n",
    "\n",
    "%matplotlib inline"
   ]
  },
  {
   "cell_type": "code",
   "execution_count": null,
   "metadata": {},
   "outputs": [],
   "source": [
    "in_dir = '../31_fitness/'\n",
    "mut_effect_dict = pickle.load(open(f'{in_dir}mut_effect_dict.pkl', 'rb'))\n",
    "mut_all_list = list(mut_effect_dict.keys())\n",
    "gt_mut_list = pickle.load(open(f'{in_dir}gt_mut_list.pkl', 'rb'))\n",
    "gt_fit_list = pickle.load(open(f'{in_dir}gt_fit_list.pkl', 'rb'))\n",
    "gt_fitrep_list = pickle.load(open(f'{in_dir}gt_fitrep_list.pkl', 'rb'))\n",
    "# wt = open('../00_data/ExpData.txt').readlines()[1].split()[3]"
   ]
  },
  {
   "cell_type": "code",
   "execution_count": null,
   "metadata": {},
   "outputs": [],
   "source": [
    "pr_bene_list, pr_dele_list = [], []\n",
    "eff03_bene = ([], [])\n",
    "eff36_bene = ([], [])\n",
    "eff03_dele = ([], [])\n",
    "eff36_dele = ([], [])\n",
    "eff03_bene_wt = ([], [])\n",
    "eff36_bene_wt = ([], [])\n",
    "eff03_dele_wt = ([], [])\n",
    "eff36_dele_wt = ([], [])\n",
    "random.seed(1075)\n",
    "random.shuffle(mut_all_list)\n",
    "for mut in mut_all_list:\n",
    "    mut_effect_list = mut_effect_dict[mut]\n",
    "    if not mut_effect_list[0][0] == 0:\n",
    "        continue\n",
    "    if len(mut_effect_list) <= 4:\n",
    "        print(mut, len(mut_effect_list))\n",
    "    eff03_list = ([numpy.mean(x[4][:3]) for x in mut_effect_list], [numpy.mean(x[5][:3]) for x in mut_effect_list])\n",
    "    eff36_list = ([numpy.mean(x[4][3:]) for x in mut_effect_list], [numpy.mean(x[5][3:]) for x in mut_effect_list])\n",
    "    idx = [x for x in range(len(mut_effect_list)) if eff03_list[0][x]!=0.5 and eff03_list[1][x]!=0.5 \n",
    "           and eff36_list[0][x]!=0.5 and eff36_list[1][x]!=0.5]\n",
    "    eff03_list = ([eff03_list[0][x] for x in idx], [eff03_list[1][x] for x in idx])\n",
    "    eff36_list = ([eff36_list[0][x] for x in idx], [eff36_list[1][x] for x in idx])\n",
    "    if eff03_list[1][0] + eff36_list[1][0] > eff03_list[0][0] + eff36_list[0][0]:\n",
    "        eff03_bene[0].extend(eff03_list[0])\n",
    "        eff03_bene[1].extend(eff03_list[1])\n",
    "        eff36_bene[0].extend(eff36_list[0])\n",
    "        eff36_bene[1].extend(eff36_list[1])\n",
    "        eff03_bene_wt[0].append(eff03_list[0][0])\n",
    "        eff03_bene_wt[1].append(eff03_list[1][0])\n",
    "        eff36_bene_wt[0].append(eff36_list[0][0])\n",
    "        eff36_bene_wt[1].append(eff36_list[1][0])\n",
    "        backgrounds = numpy.log(eff03_list[0])\n",
    "        mul_effects = numpy.log(eff36_list[1]) - numpy.log(eff36_list[0])\n",
    "        pr_bene_list.append(scipy.stats.pearsonr(backgrounds, mul_effects)[0])\n",
    "    else:\n",
    "        eff03_dele[0].extend(eff03_list[0])\n",
    "        eff03_dele[1].extend(eff03_list[1])\n",
    "        eff36_dele[0].extend(eff36_list[0])\n",
    "        eff36_dele[1].extend(eff36_list[1])\n",
    "        eff03_dele_wt[0].append(eff03_list[0][0])\n",
    "        eff03_dele_wt[1].append(eff03_list[1][0])\n",
    "        eff36_dele_wt[0].append(eff36_list[0][0])\n",
    "        eff36_dele_wt[1].append(eff36_list[1][0])\n",
    "        backgrounds = numpy.log(eff03_list[0])\n",
    "        mul_effects = numpy.log(eff36_list[1]) - numpy.log(eff36_list[0])\n",
    "        pr_dele_list.append(scipy.stats.pearsonr(backgrounds, mul_effects)[0])\n",
    "#         print(eff03_list[0][0], eff03_list[1][0], eff36_list[0][0], eff36_list[1][0])"
   ]
  },
  {
   "cell_type": "code",
   "execution_count": null,
   "metadata": {},
   "outputs": [],
   "source": [
    "fs1 = 16\n",
    "fs2 = 14\n",
    "alpha = 0.6\n",
    "bins = 20\n",
    "fig, ax = pyplot.subplots(1, 1, figsize=(6, 6))\n",
    "h1 = ax.hist(pr_dele_list, bins=bins, color='red', alpha=alpha)\n",
    "h0 = ax.hist(pr_bene_list, bins=bins, color='blue', alpha=alpha)\n",
    "ax.plot((0, 0), (0, max((h0[0].max(), h1[0].max()))), 'k--', linewidth=2)\n",
    "b = ax.scatter(-2, 1, color='blue', marker='s', alpha=alpha)\n",
    "d = ax.scatter(-2, 1, color='red', marker='s', alpha=alpha)\n",
    "ax.set_xlabel(f\"Pearson's $r$ between mutational effect\\nand background fitness\", fontsize=fs1)\n",
    "ax.set_ylabel(f\"Frequency\", fontsize=fs1)\n",
    "ax.set_xticks(numpy.arange(-1, 1.1, 0.5))\n",
    "ax.set_xlim(-1, 1)\n",
    "[x.set_fontsize(fs2) for x in \n",
    " ax.xaxis.get_ticklabels()+ax.yaxis.get_ticklabels()]\n",
    "ax.legend((b, d), ('Beneficial mutations', 'Deleterious mutations'), fontsize=fs2, loc=1)\n",
    "fig.tight_layout()\n",
    "fig.savefig('hist_corr_muteffect_benedele.pdf', dpi=300)\n",
    "print(len(pr_dele_list), len(pr_bene_list))"
   ]
  }
 ],
 "metadata": {
  "kernelspec": {
   "display_name": "Python 3",
   "language": "python",
   "name": "python3"
  },
  "language_info": {
   "codemirror_mode": {
    "name": "ipython",
    "version": 3
   },
   "file_extension": ".py",
   "mimetype": "text/x-python",
   "name": "python",
   "nbconvert_exporter": "python",
   "pygments_lexer": "ipython3",
   "version": "3.6.9"
  }
 },
 "nbformat": 4,
 "nbformat_minor": 2
}
