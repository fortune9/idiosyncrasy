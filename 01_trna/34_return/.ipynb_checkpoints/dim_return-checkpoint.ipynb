{
 "cells": [
  {
   "cell_type": "code",
   "execution_count": null,
   "metadata": {},
   "outputs": [],
   "source": [
    "#!/usr/bin/env python\n",
    "\n",
    "import itertools\n",
    "import random\n",
    "\n",
    "import numpy\n",
    "import pandas\n",
    "import pickle\n",
    "import random\n",
    "import scipy.stats\n",
    "\n",
    "from matplotlib import pyplot\n",
    "\n",
    "%matplotlib inline"
   ]
  },
  {
   "cell_type": "code",
   "execution_count": null,
   "metadata": {},
   "outputs": [],
   "source": [
    "in_dir = '../31_fitness/'\n",
    "mut_effect_dict = pickle.load(open(f'{in_dir}mut_effect_dict.pkl', 'rb'))\n",
    "mut_all_list = list(mut_effect_dict.keys())\n",
    "gt_mut_list = pickle.load(open(f'{in_dir}gt_mut_list.pkl', 'rb'))\n",
    "gt_fit_list = pickle.load(open(f'{in_dir}gt_fit_list.pkl', 'rb'))\n",
    "gt_fitrep_list = pickle.load(open(f'{in_dir}gt_fitrep_list.pkl', 'rb'))\n",
    "# wt = open('../00_data/ExpData.txt').readlines()[1].split()[3]"
   ]
  },
  {
   "cell_type": "code",
   "execution_count": null,
   "metadata": {},
   "outputs": [],
   "source": [
    "pr_mullist, pp_mullist, sr_mullist = [], [], []\n",
    "eff03_all = ([], [])\n",
    "eff36_all = ([], [])\n",
    "random.seed(1075)\n",
    "random.shuffle(mut_all_list)\n",
    "mut_unidirection = set([])\n",
    "for mut in mut_all_list:\n",
    "    mut_effect_list = mut_effect_dict[mut]\n",
    "    if len(mut_effect_list) <= 4:\n",
    "        print(mut, len(mut_effect_list))\n",
    "    eff03_list = ([numpy.mean(x[4][:3]) for x in mut_effect_list], [numpy.mean(x[5][:3]) for x in mut_effect_list])\n",
    "    eff36_list = ([numpy.mean(x[4][3:]) for x in mut_effect_list], [numpy.mean(x[5][3:]) for x in mut_effect_list])\n",
    "    idx = [x for x in range(len(mut_effect_list)) if eff03_list[0][x]!=0.5 and eff03_list[1][x]!=0.5 \n",
    "           and eff36_list[0][x]!=0.5 and eff36_list[1][x]!=0.5]\n",
    "    eff03_list = ([eff03_list[0][x] for x in idx], [eff03_list[1][x] for x in idx])\n",
    "    eff36_list = ([eff36_list[0][x] for x in idx], [eff36_list[1][x] for x in idx])\n",
    "    if not (mut[0], mut[2], mut[1]) in mut_unidirection:\n",
    "        eff03_all[0].extend(eff03_list[0])\n",
    "        eff03_all[1].extend(eff03_list[1])\n",
    "        eff36_all[0].extend(eff36_list[0])\n",
    "        eff36_all[1].extend(eff36_list[1])\n",
    "        mut_unidirection.add(mut)\n",
    "    backgrounds = numpy.log(eff03_list[0])\n",
    "    mul_effects = numpy.log(eff36_list[1]) - numpy.log(eff36_list[0])\n",
    "    pr_mullist.append(scipy.stats.pearsonr(backgrounds, mul_effects)[0])\n",
    "    pp_mullist.append(scipy.stats.pearsonr(backgrounds, mul_effects)[1])\n",
    "    sr_mullist.append(scipy.stats.spearmanr(backgrounds, mul_effects)[0])"
   ]
  },
  {
   "cell_type": "code",
   "execution_count": null,
   "metadata": {},
   "outputs": [],
   "source": [
    "fs1 = 16\n",
    "fs2 = 14\n",
    "fig, ax = pyplot.subplots(1, 1, figsize=(6, 6))\n",
    "h = ax.hist(pr_mullist, bins=30, color='grey')\n",
    "ax.plot((0, 0), (0, h[0].max()), 'k--', linewidth=2)\n",
    "ax.set_xlabel(f\"Pearson's $r$ between mutational effect\\nand background fitness\", fontsize=fs1, labelpad=8)\n",
    "ax.set_ylabel(f\"Frequency\", fontsize=fs1, labelpad=10)\n",
    "ax.set_xticks(numpy.arange(-1, 1.1, 0.5))\n",
    "ax.set_xlim(-1, 1)\n",
    "[x.set_fontsize(fs2) for x in \n",
    " ax.xaxis.get_ticklabels()+ax.yaxis.get_ticklabels()]\n",
    "fig.tight_layout()\n",
    "fig.savefig('hist_corr_muteffect.pdf', dpi=300)"
   ]
  },
  {
   "cell_type": "code",
   "execution_count": null,
   "metadata": {},
   "outputs": [],
   "source": [
    "# fig 2b, add running mean\n",
    "fs1, fs2, alpha = 16, 14, 0.05\n",
    "fig, ax = pyplot.subplots(figsize=(6.5, 6))\n",
    "backgrounds = numpy.log(eff03_all[0])\n",
    "mul_effects = numpy.log(eff36_all[1]) - numpy.log(eff36_all[0])\n",
    "bins = numpy.arange(backgrounds.min()-0.01, backgrounds.max()+0.01, 0.02)\n",
    "running_means = []\n",
    "running_medians = []\n",
    "for x in range(len(bins)-1):\n",
    "    idx = numpy.logical_and(backgrounds > bins[x], backgrounds < bins[x+1])\n",
    "#     print(idx.sum())\n",
    "    if idx.sum() >= 10:\n",
    "        running_means.append(mul_effects[idx].mean())\n",
    "    else:\n",
    "        running_means.append(numpy.nan)\n",
    "#     running_medians.append(numpy.median(mul_effects[numpy.logical_and(backgrounds > bins[x], backgrounds < bins[x+1])]))\n",
    "# print(bins, running_means)\n",
    "# xs = numpy.random.choice(numpy.arange(len(backgrounds), dtype='int'), size=5000, replace=False)\n",
    "xs = numpy.arange(len(backgrounds), dtype='int')\n",
    "pr = scipy.stats.pearsonr(backgrounds[xs], mul_effects[xs])\n",
    "sr = scipy.stats.spearmanr(backgrounds[xs], mul_effects[xs])\n",
    "ax.plot(backgrounds[xs], mul_effects[xs], 'ko', alpha=alpha)\n",
    "ax.plot(bins[:-1]+0.01, running_means, 'r-', linewidth=2)\n",
    "# ax.plot(bins[:-1]+0.01, running_medians, 'r--', linewidth=2)\n",
    "ax.text(0.35, 0.75, f'$r=${pr[0]:.2f}, $P=${pr[1]:.1e}', fontsize=fs1)\n",
    "# ax.text(-0.4, 0.65, f'$r=${sr[0]:.2f}, $P=${sr[1]:.1e}', fontsize=fs1)\n",
    "[x.set_fontsize(fs2) for x in ax.xaxis.get_ticklabels()]\n",
    "[x.set_fontsize(fs2) for x in ax.yaxis.get_ticklabels()]\n",
    "ax.set_xlabel('Background fitness', fontsize=fs1)\n",
    "ax.set_ylabel('Mutational effects', fontsize=fs1)\n",
    "fig.tight_layout()\n",
    "fig.savefig('scatter_return_allmut.pdf', dpi=300)\n",
    "fig.savefig('scatter_return_allmut.jpg', dpi=600)"
   ]
  }
 ],
 "metadata": {
  "kernelspec": {
   "display_name": "Python 3",
   "language": "python",
   "name": "python3"
  },
  "language_info": {
   "codemirror_mode": {
    "name": "ipython",
    "version": 3
   },
   "file_extension": ".py",
   "mimetype": "text/x-python",
   "name": "python",
   "nbconvert_exporter": "python",
   "pygments_lexer": "ipython3",
   "version": "3.6.9"
  }
 },
 "nbformat": 4,
 "nbformat_minor": 2
}
